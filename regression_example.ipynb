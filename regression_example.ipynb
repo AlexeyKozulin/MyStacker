{
 "cells": [
  {
   "cell_type": "code",
   "execution_count": 1,
   "metadata": {
    "collapsed": false,
    "scrolled": true
   },
   "outputs": [
    {
     "name": "stdout",
     "output_type": "stream",
     "text": [
      "Populating the interactive namespace from numpy and matplotlib\n"
     ]
    }
   ],
   "source": [
    "import pandas as pd\n",
    "import numpy as np\n",
    "from sklearn.model_selection import train_test_split\n",
    "from sklearn.metrics import mean_squared_error\n",
    "from sklearn.preprocessing import StandardScaler\n",
    "\n",
    "from sklearn.ensemble import RandomForestRegressor\n",
    "from sklearn.linear_model import LinearRegression, ElasticNet \n",
    "from sklearn.neighbors import KNeighborsRegressor\n",
    "from sklearn.neural_network import MLPRegressor\n",
    "from sklearn.datasets import make_regression\n",
    "\n",
    "%pylab inline\n",
    "import matplotlib.pylab as plt\n",
    "import seaborn as sns\n",
    "plt.style.use('ggplot')\n",
    "plt.style.use('seaborn-poster')\n",
    "sns.set_palette('Set1', 10, desat=0.75)\n",
    "\n",
    "%load_ext autoreload\n",
    "%autoreload 2"
   ]
  },
  {
   "cell_type": "markdown",
   "metadata": {},
   "source": [
    "## Create data"
   ]
  },
  {
   "cell_type": "code",
   "execution_count": 2,
   "metadata": {
    "collapsed": false
   },
   "outputs": [],
   "source": [
    "data, y = make_regression(\n",
    "    n_samples=3000, n_features=10, n_informative=5, noise=10)\n",
    "data = pd.DataFrame(data=data, columns=['f'+str(i+1) for i in range(data.shape[1])])\n",
    "# adding some non-linearity\n",
    "y = (y + abs(y.min())) ** 2\n",
    "y /= 1000"
   ]
  },
  {
   "cell_type": "code",
   "execution_count": 3,
   "metadata": {
    "collapsed": false
   },
   "outputs": [],
   "source": [
    "features = [c for c in data.columns]\n",
    "train, test, ytrain, ytest = train_test_split(data[features], y, test_size=0.25)\n",
    "\n",
    "scaler = StandardScaler()\n",
    "train = pd.DataFrame(data=scaler.fit_transform(train[features]),  columns=features)\n",
    "test  = pd.DataFrame(data=scaler.transform(test[features]),  columns=features)"
   ]
  },
  {
   "cell_type": "markdown",
   "metadata": {},
   "source": [
    "## Fit first level models"
   ]
  },
  {
   "cell_type": "code",
   "execution_count": 4,
   "metadata": {
    "collapsed": false
   },
   "outputs": [],
   "source": [
    "from stacker import Stacker\n",
    "\n",
    "S = Stacker(\n",
    "    train, ytrain,\n",
    "    metric=mean_squared_error,\n",
    "    test=test, ytest=None,\n",
    "    features=features, features_to_encode=[],\n",
    "    split_by=None, stratify_folds=False, n_splits=5, split_seed=0\n",
    ")\n",
    "# We are not giving ytest to model yet, just to be sure."
   ]
  },
  {
   "cell_type": "code",
   "execution_count": 5,
   "metadata": {
    "collapsed": false,
    "scrolled": false
   },
   "outputs": [],
   "source": [
    "xgb_params ={\n",
    "    'objective': 'reg:linear', \n",
    "    'eval_metric': 'rmse', \n",
    "    #'seed': 0, \n",
    "    'booster': 'gbtree', \n",
    "    'eta': 0.05,\n",
    "    #'alpha': 1,\n",
    "    #'colsample_bylevel': 1,\n",
    "    #'colsample_bytree': 0.75,\n",
    "    #'gamma': 1,\n",
    "    #'lambda': 16,\n",
    "    #'max_bin': 1000,\n",
    "    #'max_depth': 5,\n",
    "    #'min_child_weight': 750,\n",
    "    #'scale_pos_weight': 1\n",
    "}\n",
    "\n",
    "lgb_params = {\n",
    "    'metric': 'mse', \n",
    "    'objective': 'mse',\n",
    "    'learning_rate' : 0.05, \n",
    "    #'bagging_fraction': 0.75,\n",
    "    #'bagging_freq': 5,\n",
    "    #'feature_fraction': 1,\n",
    "    #'lambda_l1': 1,\n",
    "    #'lambda_l2': 5,\n",
    "    #'min_data_in_leaf': 5,\n",
    "    #'min_split_gain': 10,\n",
    "    #'num_leaves': 8,\n",
    "    #'scale_pos_weight': 1/data.target.mean()\n",
    "}\n",
    "\n",
    "# Sklearn models.\n",
    "lr = ElasticNet(alpha=0.1)\n",
    "rf = RandomForestRegressor(n_estimators=200, n_jobs=-1, max_depth=32, random_state=0)\n",
    "knn = KNeighborsRegressor(n_neighbors=10, n_jobs=-1)"
   ]
  },
  {
   "cell_type": "code",
   "execution_count": 6,
   "metadata": {
    "collapsed": false,
    "scrolled": true
   },
   "outputs": [
    {
     "name": "stdout",
     "output_type": "stream",
     "text": [
      "Metric on test fold:  133.6803\n",
      "Metric on test fold:  125.0507\n",
      "Metric on test fold:  71.2976\n",
      "Metric on test fold:  107.7617\n",
      "Metric on test fold:  112.073\n",
      "Iteration OOF score: 109.9727\n",
      "\n",
      "Metric on test fold:  93.1471\n",
      "Metric on test fold:  127.342\n",
      "Metric on test fold:  77.9722\n",
      "Metric on test fold:  92.2932\n",
      "Metric on test fold:  109.4087\n",
      "Iteration OOF score: 100.0326\n",
      "\n",
      "Metric on test fold:  175.506\n",
      "Metric on test fold:  148.0047\n",
      "Metric on test fold:  122.809\n",
      "Metric on test fold:  151.0889\n",
      "Metric on test fold:  137.164\n",
      "Iteration OOF score: 146.9145\n",
      "\n",
      "Metric on test fold:  623.5632\n",
      "Metric on test fold:  520.0906\n",
      "Metric on test fold:  440.582\n",
      "Metric on test fold:  553.615\n",
      "Metric on test fold:  507.111\n",
      "Iteration OOF score: 528.9923\n",
      "\n"
     ]
    }
   ],
   "source": [
    "S.fit(\n",
    "    model='lgb',\n",
    "    colname='lgb_1',\n",
    "    model_params=lgb_params,\n",
    "    valid_size=0.25)\n",
    "S.fit('xgb', 'xgb_1', xgb_params, 0.25)\n",
    "#S.fit(rf, 'rf_1')\n",
    "S.fit(lr, 'lr_1')\n",
    "S.fit(knn, 'knn_1')"
   ]
  },
  {
   "cell_type": "markdown",
   "metadata": {},
   "source": [
    "## First level results"
   ]
  },
  {
   "cell_type": "code",
   "execution_count": 7,
   "metadata": {
    "collapsed": false
   },
   "outputs": [
    {
     "data": {
      "text/html": [
       "<div>\n",
       "<style scoped>\n",
       "    .dataframe tbody tr th:only-of-type {\n",
       "        vertical-align: middle;\n",
       "    }\n",
       "\n",
       "    .dataframe tbody tr th {\n",
       "        vertical-align: top;\n",
       "    }\n",
       "\n",
       "    .dataframe thead th {\n",
       "        text-align: right;\n",
       "    }\n",
       "</style>\n",
       "<table border=\"1\" class=\"dataframe\">\n",
       "  <thead>\n",
       "    <tr style=\"text-align: right;\">\n",
       "      <th></th>\n",
       "      <th>lgb_1</th>\n",
       "      <th>xgb_1</th>\n",
       "      <th>lr_1</th>\n",
       "      <th>knn_1</th>\n",
       "    </tr>\n",
       "  </thead>\n",
       "  <tbody>\n",
       "    <tr>\n",
       "      <th>0</th>\n",
       "      <td>181.940641</td>\n",
       "      <td>183.037766</td>\n",
       "      <td>174.544243</td>\n",
       "      <td>147.858345</td>\n",
       "    </tr>\n",
       "    <tr>\n",
       "      <th>1</th>\n",
       "      <td>154.056695</td>\n",
       "      <td>145.415497</td>\n",
       "      <td>153.327952</td>\n",
       "      <td>133.719496</td>\n",
       "    </tr>\n",
       "    <tr>\n",
       "      <th>2</th>\n",
       "      <td>136.954266</td>\n",
       "      <td>140.401596</td>\n",
       "      <td>141.925037</td>\n",
       "      <td>125.146756</td>\n",
       "    </tr>\n",
       "    <tr>\n",
       "      <th>3</th>\n",
       "      <td>45.079565</td>\n",
       "      <td>42.531502</td>\n",
       "      <td>42.495055</td>\n",
       "      <td>61.598431</td>\n",
       "    </tr>\n",
       "    <tr>\n",
       "      <th>4</th>\n",
       "      <td>25.576700</td>\n",
       "      <td>24.869057</td>\n",
       "      <td>16.922630</td>\n",
       "      <td>49.237891</td>\n",
       "    </tr>\n",
       "  </tbody>\n",
       "</table>\n",
       "</div>"
      ],
      "text/plain": [
       "        lgb_1       xgb_1        lr_1       knn_1\n",
       "0  181.940641  183.037766  174.544243  147.858345\n",
       "1  154.056695  145.415497  153.327952  133.719496\n",
       "2  136.954266  140.401596  141.925037  125.146756\n",
       "3   45.079565   42.531502   42.495055   61.598431\n",
       "4   25.576700   24.869057   16.922630   49.237891"
      ]
     },
     "execution_count": 7,
     "metadata": {},
     "output_type": "execute_result"
    }
   ],
   "source": [
    "S.train_meta.head()"
   ]
  },
  {
   "cell_type": "code",
   "execution_count": 8,
   "metadata": {
    "collapsed": false
   },
   "outputs": [
    {
     "data": {
      "text/html": [
       "<div>\n",
       "<style scoped>\n",
       "    .dataframe tbody tr th:only-of-type {\n",
       "        vertical-align: middle;\n",
       "    }\n",
       "\n",
       "    .dataframe tbody tr th {\n",
       "        vertical-align: top;\n",
       "    }\n",
       "\n",
       "    .dataframe thead th {\n",
       "        text-align: right;\n",
       "    }\n",
       "</style>\n",
       "<table border=\"1\" class=\"dataframe\">\n",
       "  <thead>\n",
       "    <tr style=\"text-align: right;\">\n",
       "      <th></th>\n",
       "      <th>lgb_1</th>\n",
       "      <th>xgb_1</th>\n",
       "      <th>lr_1</th>\n",
       "      <th>knn_1</th>\n",
       "    </tr>\n",
       "  </thead>\n",
       "  <tbody>\n",
       "    <tr>\n",
       "      <th>0</th>\n",
       "      <td>103.754951</td>\n",
       "      <td>103.072655</td>\n",
       "      <td>107.304490</td>\n",
       "      <td>102.996149</td>\n",
       "    </tr>\n",
       "    <tr>\n",
       "      <th>1</th>\n",
       "      <td>85.259169</td>\n",
       "      <td>88.248184</td>\n",
       "      <td>93.840025</td>\n",
       "      <td>83.620337</td>\n",
       "    </tr>\n",
       "    <tr>\n",
       "      <th>2</th>\n",
       "      <td>101.823485</td>\n",
       "      <td>103.060970</td>\n",
       "      <td>113.424351</td>\n",
       "      <td>104.458501</td>\n",
       "    </tr>\n",
       "    <tr>\n",
       "      <th>3</th>\n",
       "      <td>97.114228</td>\n",
       "      <td>96.275476</td>\n",
       "      <td>104.304997</td>\n",
       "      <td>108.374389</td>\n",
       "    </tr>\n",
       "    <tr>\n",
       "      <th>4</th>\n",
       "      <td>37.203178</td>\n",
       "      <td>35.261732</td>\n",
       "      <td>38.040479</td>\n",
       "      <td>57.577672</td>\n",
       "    </tr>\n",
       "  </tbody>\n",
       "</table>\n",
       "</div>"
      ],
      "text/plain": [
       "        lgb_1       xgb_1        lr_1       knn_1\n",
       "0  103.754951  103.072655  107.304490  102.996149\n",
       "1   85.259169   88.248184   93.840025   83.620337\n",
       "2  101.823485  103.060970  113.424351  104.458501\n",
       "3   97.114228   96.275476  104.304997  108.374389\n",
       "4   37.203178   35.261732   38.040479   57.577672"
      ]
     },
     "execution_count": 8,
     "metadata": {},
     "output_type": "execute_result"
    }
   ],
   "source": [
    "S.test_meta.head()"
   ]
  },
  {
   "cell_type": "markdown",
   "metadata": {},
   "source": [
    "Results on test are a bit better due to blending, because for test data each model predictions are blended n_splits times:"
   ]
  },
  {
   "cell_type": "code",
   "execution_count": 9,
   "metadata": {
    "collapsed": false
   },
   "outputs": [
    {
     "name": "stdout",
     "output_type": "stream",
     "text": [
      "109.9727 - lgb_1 on train\n",
      "100.0326 - xgb_1 on train\n",
      "146.9145 - lr_1 on train\n",
      "528.9923 - knn_1 on train\n"
     ]
    }
   ],
   "source": [
    "# OOFs on train data.\n",
    "S.get_metrics()"
   ]
  },
  {
   "cell_type": "code",
   "execution_count": 10,
   "metadata": {
    "collapsed": false
   },
   "outputs": [
    {
     "name": "stdout",
     "output_type": "stream",
     "text": [
      "84.2216 - lgb_1 on test\n",
      "71.1094 - xgb_1 on test\n",
      "133.8088 - lr_1 on test\n",
      "510.9368 - knn_1 on test\n"
     ]
    }
   ],
   "source": [
    "# OOFs on test data. \n",
    "S.get_metrics(ytest)"
   ]
  },
  {
   "cell_type": "markdown",
   "metadata": {},
   "source": [
    "## Fit second level model and inspect results"
   ]
  },
  {
   "cell_type": "code",
   "execution_count": 11,
   "metadata": {
    "collapsed": false,
    "scrolled": true
   },
   "outputs": [
    {
     "name": "stdout",
     "output_type": "stream",
     "text": [
      "Metric on test fold:  86.1575\n",
      "Metric on test fold:  98.3113\n",
      "Metric on test fold:  62.2685\n",
      "Metric on test fold:  74.8713\n",
      "Metric on test fold:  80.4463\n",
      "Iteration OOF score: 80.411\n",
      "\n"
     ]
    }
   ],
   "source": [
    "lr = ElasticNet()\n",
    "S.fit(lr, 'lr_2', level=2)"
   ]
  },
  {
   "cell_type": "code",
   "execution_count": 12,
   "metadata": {
    "collapsed": false
   },
   "outputs": [
    {
     "data": {
      "text/html": [
       "<div>\n",
       "<style scoped>\n",
       "    .dataframe tbody tr th:only-of-type {\n",
       "        vertical-align: middle;\n",
       "    }\n",
       "\n",
       "    .dataframe tbody tr th {\n",
       "        vertical-align: top;\n",
       "    }\n",
       "\n",
       "    .dataframe thead th {\n",
       "        text-align: right;\n",
       "    }\n",
       "</style>\n",
       "<table border=\"1\" class=\"dataframe\">\n",
       "  <thead>\n",
       "    <tr style=\"text-align: right;\">\n",
       "      <th></th>\n",
       "      <th>lgb_1</th>\n",
       "      <th>xgb_1</th>\n",
       "      <th>lr_1</th>\n",
       "      <th>knn_1</th>\n",
       "    </tr>\n",
       "  </thead>\n",
       "  <tbody>\n",
       "    <tr>\n",
       "      <th>0</th>\n",
       "      <td>103.754951</td>\n",
       "      <td>103.072655</td>\n",
       "      <td>107.304490</td>\n",
       "      <td>102.996149</td>\n",
       "    </tr>\n",
       "    <tr>\n",
       "      <th>1</th>\n",
       "      <td>85.259169</td>\n",
       "      <td>88.248184</td>\n",
       "      <td>93.840025</td>\n",
       "      <td>83.620337</td>\n",
       "    </tr>\n",
       "    <tr>\n",
       "      <th>2</th>\n",
       "      <td>101.823485</td>\n",
       "      <td>103.060970</td>\n",
       "      <td>113.424351</td>\n",
       "      <td>104.458501</td>\n",
       "    </tr>\n",
       "    <tr>\n",
       "      <th>3</th>\n",
       "      <td>97.114228</td>\n",
       "      <td>96.275476</td>\n",
       "      <td>104.304997</td>\n",
       "      <td>108.374389</td>\n",
       "    </tr>\n",
       "    <tr>\n",
       "      <th>4</th>\n",
       "      <td>37.203178</td>\n",
       "      <td>35.261732</td>\n",
       "      <td>38.040479</td>\n",
       "      <td>57.577672</td>\n",
       "    </tr>\n",
       "  </tbody>\n",
       "</table>\n",
       "</div>"
      ],
      "text/plain": [
       "        lgb_1       xgb_1        lr_1       knn_1\n",
       "0  103.754951  103.072655  107.304490  102.996149\n",
       "1   85.259169   88.248184   93.840025   83.620337\n",
       "2  101.823485  103.060970  113.424351  104.458501\n",
       "3   97.114228   96.275476  104.304997  108.374389\n",
       "4   37.203178   35.261732   38.040479   57.577672"
      ]
     },
     "execution_count": 12,
     "metadata": {},
     "output_type": "execute_result"
    }
   ],
   "source": [
    "S.test_meta.head()"
   ]
  },
  {
   "cell_type": "code",
   "execution_count": 13,
   "metadata": {
    "collapsed": false
   },
   "outputs": [
    {
     "name": "stdout",
     "output_type": "stream",
     "text": [
      "80.411 - lr_2 on train\n"
     ]
    }
   ],
   "source": [
    "S.get_metrics_final()"
   ]
  },
  {
   "cell_type": "code",
   "execution_count": 14,
   "metadata": {
    "collapsed": false
   },
   "outputs": [
    {
     "name": "stdout",
     "output_type": "stream",
     "text": [
      "61.1626 - lr_2 on test\n"
     ]
    }
   ],
   "source": [
    "S.get_metrics_final(ytest)"
   ]
  },
  {
   "cell_type": "markdown",
   "metadata": {
    "collapsed": false
   },
   "source": [
    "### MSE of second level model is lower than from the best first level model (61 vs 71)"
   ]
  },
  {
   "cell_type": "code",
   "execution_count": null,
   "metadata": {
    "collapsed": true
   },
   "outputs": [],
   "source": []
  }
 ],
 "metadata": {
  "kernelspec": {
   "display_name": "Python 3",
   "language": "python",
   "name": "python3"
  },
  "language_info": {
   "codemirror_mode": {
    "name": "ipython",
    "version": 3
   },
   "file_extension": ".py",
   "mimetype": "text/x-python",
   "name": "python",
   "nbconvert_exporter": "python",
   "pygments_lexer": "ipython3",
   "version": "3.5.2"
  }
 },
 "nbformat": 4,
 "nbformat_minor": 2
}

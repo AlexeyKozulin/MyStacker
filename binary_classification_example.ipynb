{
 "cells": [
  {
   "cell_type": "code",
   "execution_count": 1,
   "metadata": {
    "collapsed": false
   },
   "outputs": [
    {
     "name": "stdout",
     "output_type": "stream",
     "text": [
      "Populating the interactive namespace from numpy and matplotlib\n"
     ]
    }
   ],
   "source": [
    "import pandas as pd\n",
    "import numpy as np\n",
    "from sklearn.model_selection import train_test_split\n",
    "from sklearn.metrics import roc_auc_score, log_loss\n",
    "from sklearn.preprocessing import StandardScaler\n",
    "\n",
    "from sklearn.ensemble import RandomForestClassifier, ExtraTreesClassifier\n",
    "from sklearn.naive_bayes import BernoulliNB\n",
    "from sklearn.linear_model import LogisticRegression\n",
    "from sklearn.neighbors import KNeighborsClassifier\n",
    "from sklearn.neural_network import MLPClassifier\n",
    "from sklearn.datasets import make_classification\n",
    "\n",
    "%pylab inline\n",
    "import matplotlib.pylab as plt\n",
    "import seaborn as sns\n",
    "plt.style.use('ggplot')\n",
    "plt.style.use('seaborn-poster')\n",
    "sns.set_palette('Set1', 10, desat=0.75)\n",
    "\n",
    "%load_ext autoreload\n",
    "%autoreload 2"
   ]
  },
  {
   "cell_type": "markdown",
   "metadata": {},
   "source": [
    "## Create data"
   ]
  },
  {
   "cell_type": "code",
   "execution_count": 2,
   "metadata": {
    "collapsed": false
   },
   "outputs": [],
   "source": [
    "data, y = make_classification(\n",
    "    n_samples=20000, n_features=10, n_informative=5, n_redundant=2, flip_y=0.15)\n",
    "data = pd.DataFrame(data=data, columns=['f'+str(i+1) for i in range(data.shape[1])])\n",
    "data['target'] = y"
   ]
  },
  {
   "cell_type": "code",
   "execution_count": 3,
   "metadata": {
    "collapsed": false
   },
   "outputs": [],
   "source": [
    "features = [c for c in data.columns if c != 'target']\n",
    "train, test, ytrain, ytest = train_test_split(data, data.target, test_size=0.25)\n",
    "\n",
    "scaler = StandardScaler()\n",
    "train = pd.DataFrame(data=scaler.fit_transform(train[features]),  columns=features)\n",
    "test  = pd.DataFrame(data=scaler.transform(test[features]),  columns=features)"
   ]
  },
  {
   "cell_type": "markdown",
   "metadata": {},
   "source": [
    "## Fit first level models"
   ]
  },
  {
   "cell_type": "code",
   "execution_count": 4,
   "metadata": {
    "collapsed": false
   },
   "outputs": [],
   "source": [
    "from stacker import Stacker\n",
    "\n",
    "S = Stacker(\n",
    "    train, ytrain,\n",
    "    metric=log_loss,\n",
    "    test=test, ytest=None,\n",
    "    features=features, features_to_encode=[],\n",
    "    split_by=None, stratify_folds=False, n_splits=5, split_seed=0\n",
    ")\n",
    "# We are not giving ytest to model yet, just to be sure."
   ]
  },
  {
   "cell_type": "code",
   "execution_count": 5,
   "metadata": {
    "collapsed": false,
    "scrolled": false
   },
   "outputs": [],
   "source": [
    "xgb_params ={\n",
    "    'objective': 'binary:logistic', \n",
    "    'eval_metric': 'auc', \n",
    "    #'seed': 0, \n",
    "    'booster': 'gbtree', \n",
    "    'eta': 0.05,\n",
    "    #'alpha': 1,\n",
    "    #'colsample_bylevel': 1,\n",
    "    #'colsample_bytree': 0.75,\n",
    "    #'gamma': 1,\n",
    "    #'lambda': 16,\n",
    "    #'max_bin': 1000,\n",
    "    #'max_depth': 5,\n",
    "    #'min_child_weight': 750,\n",
    "    #'scale_pos_weight': 1\n",
    "}\n",
    "\n",
    "lgb_params = {\n",
    "    'metric': 'auc', \n",
    "    'objective': 'binary',\n",
    "    'learning_rate' : 0.025, \n",
    "    #'bagging_fraction': 0.75,\n",
    "    #'bagging_freq': 5,\n",
    "    #'feature_fraction': 1,\n",
    "    #'lambda_l1': 1,\n",
    "    #'lambda_l2': 5,\n",
    "    #'min_data_in_leaf': 5,\n",
    "    #'min_split_gain': 10,\n",
    "    #'num_leaves': 8,\n",
    "    #'scale_pos_weight': 1/data.target.mean()\n",
    "}\n",
    "\n",
    "# Sklearn models.\n",
    "lr = LogisticRegression(C=0.5)\n",
    "nb = BernoulliNB()\n",
    "rf = RandomForestClassifier(n_estimators=200, n_jobs=-1, max_depth=32, criterion='gini', random_state=0)\n",
    "etc = ExtraTreesClassifier(n_estimators=200, n_jobs=-1, max_depth=10)\n",
    "clf = MLPClassifier(solver='lbfgs', alpha=1e-5, hidden_layer_sizes=(24,8), random_state=1, early_stopping=True)\n",
    "knn = KNeighborsClassifier(n_neighbors=50, n_jobs=4, leaf_size=100, algorithm='kd_tree')"
   ]
  },
  {
   "cell_type": "code",
   "execution_count": 6,
   "metadata": {
    "collapsed": false,
    "scrolled": true
   },
   "outputs": [
    {
     "name": "stdout",
     "output_type": "stream",
     "text": [
      "Metric on test fold:  0.3655\n",
      "Metric on test fold:  0.3602\n",
      "Metric on test fold:  0.3586\n",
      "Metric on test fold:  0.3652\n",
      "Metric on test fold:  0.3512\n",
      "Iteration OOF score: 0.3602\n",
      "\n",
      "Metric on test fold:  0.3709\n",
      "Metric on test fold:  0.3418\n",
      "Metric on test fold:  0.3599\n",
      "Metric on test fold:  0.3684\n",
      "Metric on test fold:  0.3576\n",
      "Iteration OOF score: 0.3597\n",
      "\n",
      "Metric on test fold:  0.5278\n",
      "Metric on test fold:  0.52\n",
      "Metric on test fold:  0.5405\n",
      "Metric on test fold:  0.5309\n",
      "Metric on test fold:  0.5101\n",
      "Iteration OOF score: 0.5259\n",
      "\n",
      "Metric on test fold:  0.6203\n",
      "Metric on test fold:  0.6119\n",
      "Metric on test fold:  0.6383\n",
      "Metric on test fold:  0.5925\n",
      "Metric on test fold:  0.5887\n",
      "Iteration OOF score: 0.6103\n",
      "\n",
      "Metric on test fold:  0.3989\n",
      "Metric on test fold:  0.4167\n",
      "Metric on test fold:  0.394\n",
      "Metric on test fold:  0.4156\n",
      "Metric on test fold:  0.39\n",
      "Iteration OOF score: 0.403\n",
      "\n"
     ]
    }
   ],
   "source": [
    "S.fit(\n",
    "    model='lgb',\n",
    "    colname='lgb_1',\n",
    "    model_params=lgb_params,\n",
    "    valid_size=0.25)\n",
    "S.fit('xgb', 'xgb_1', xgb_params, 0.25)\n",
    "S.fit(lr, 'lr_1')\n",
    "S.fit(nb, 'nb_1')\n",
    "S.fit(knn, 'knn_1')"
   ]
  },
  {
   "cell_type": "markdown",
   "metadata": {},
   "source": [
    "## First level results"
   ]
  },
  {
   "cell_type": "code",
   "execution_count": 7,
   "metadata": {
    "collapsed": false
   },
   "outputs": [
    {
     "data": {
      "text/html": [
       "<div>\n",
       "<style scoped>\n",
       "    .dataframe tbody tr th:only-of-type {\n",
       "        vertical-align: middle;\n",
       "    }\n",
       "\n",
       "    .dataframe tbody tr th {\n",
       "        vertical-align: top;\n",
       "    }\n",
       "\n",
       "    .dataframe thead th {\n",
       "        text-align: right;\n",
       "    }\n",
       "</style>\n",
       "<table border=\"1\" class=\"dataframe\">\n",
       "  <thead>\n",
       "    <tr style=\"text-align: right;\">\n",
       "      <th></th>\n",
       "      <th>lgb_1</th>\n",
       "      <th>xgb_1</th>\n",
       "      <th>lr_1</th>\n",
       "      <th>nb_1</th>\n",
       "      <th>knn_1</th>\n",
       "    </tr>\n",
       "  </thead>\n",
       "  <tbody>\n",
       "    <tr>\n",
       "      <th>0</th>\n",
       "      <td>0.561616</td>\n",
       "      <td>0.619793</td>\n",
       "      <td>0.491191</td>\n",
       "      <td>0.177352</td>\n",
       "      <td>0.42</td>\n",
       "    </tr>\n",
       "    <tr>\n",
       "      <th>1</th>\n",
       "      <td>0.881164</td>\n",
       "      <td>0.855368</td>\n",
       "      <td>0.744002</td>\n",
       "      <td>0.912788</td>\n",
       "      <td>1.00</td>\n",
       "    </tr>\n",
       "    <tr>\n",
       "      <th>2</th>\n",
       "      <td>0.273214</td>\n",
       "      <td>0.259756</td>\n",
       "      <td>0.436971</td>\n",
       "      <td>0.073697</td>\n",
       "      <td>0.28</td>\n",
       "    </tr>\n",
       "    <tr>\n",
       "      <th>3</th>\n",
       "      <td>0.124990</td>\n",
       "      <td>0.120153</td>\n",
       "      <td>0.558395</td>\n",
       "      <td>0.187555</td>\n",
       "      <td>0.22</td>\n",
       "    </tr>\n",
       "    <tr>\n",
       "      <th>4</th>\n",
       "      <td>0.088565</td>\n",
       "      <td>0.074827</td>\n",
       "      <td>0.289120</td>\n",
       "      <td>0.362987</td>\n",
       "      <td>0.04</td>\n",
       "    </tr>\n",
       "  </tbody>\n",
       "</table>\n",
       "</div>"
      ],
      "text/plain": [
       "      lgb_1     xgb_1      lr_1      nb_1  knn_1\n",
       "0  0.561616  0.619793  0.491191  0.177352   0.42\n",
       "1  0.881164  0.855368  0.744002  0.912788   1.00\n",
       "2  0.273214  0.259756  0.436971  0.073697   0.28\n",
       "3  0.124990  0.120153  0.558395  0.187555   0.22\n",
       "4  0.088565  0.074827  0.289120  0.362987   0.04"
      ]
     },
     "execution_count": 7,
     "metadata": {},
     "output_type": "execute_result"
    }
   ],
   "source": [
    "S.train_meta.head()"
   ]
  },
  {
   "cell_type": "code",
   "execution_count": 8,
   "metadata": {
    "collapsed": false
   },
   "outputs": [
    {
     "data": {
      "text/html": [
       "<div>\n",
       "<style scoped>\n",
       "    .dataframe tbody tr th:only-of-type {\n",
       "        vertical-align: middle;\n",
       "    }\n",
       "\n",
       "    .dataframe tbody tr th {\n",
       "        vertical-align: top;\n",
       "    }\n",
       "\n",
       "    .dataframe thead th {\n",
       "        text-align: right;\n",
       "    }\n",
       "</style>\n",
       "<table border=\"1\" class=\"dataframe\">\n",
       "  <thead>\n",
       "    <tr style=\"text-align: right;\">\n",
       "      <th></th>\n",
       "      <th>lgb_1</th>\n",
       "      <th>xgb_1</th>\n",
       "      <th>lr_1</th>\n",
       "      <th>nb_1</th>\n",
       "      <th>knn_1</th>\n",
       "    </tr>\n",
       "  </thead>\n",
       "  <tbody>\n",
       "    <tr>\n",
       "      <th>0</th>\n",
       "      <td>0.895354</td>\n",
       "      <td>0.903486</td>\n",
       "      <td>0.492098</td>\n",
       "      <td>0.322522</td>\n",
       "      <td>0.868</td>\n",
       "    </tr>\n",
       "    <tr>\n",
       "      <th>1</th>\n",
       "      <td>0.111129</td>\n",
       "      <td>0.092397</td>\n",
       "      <td>0.196257</td>\n",
       "      <td>0.078667</td>\n",
       "      <td>0.188</td>\n",
       "    </tr>\n",
       "    <tr>\n",
       "      <th>2</th>\n",
       "      <td>0.133736</td>\n",
       "      <td>0.127299</td>\n",
       "      <td>0.174184</td>\n",
       "      <td>0.064883</td>\n",
       "      <td>0.164</td>\n",
       "    </tr>\n",
       "    <tr>\n",
       "      <th>3</th>\n",
       "      <td>0.150134</td>\n",
       "      <td>0.136195</td>\n",
       "      <td>0.199756</td>\n",
       "      <td>0.070803</td>\n",
       "      <td>0.080</td>\n",
       "    </tr>\n",
       "    <tr>\n",
       "      <th>4</th>\n",
       "      <td>0.149761</td>\n",
       "      <td>0.170025</td>\n",
       "      <td>0.199551</td>\n",
       "      <td>0.175806</td>\n",
       "      <td>0.144</td>\n",
       "    </tr>\n",
       "  </tbody>\n",
       "</table>\n",
       "</div>"
      ],
      "text/plain": [
       "      lgb_1     xgb_1      lr_1      nb_1  knn_1\n",
       "0  0.895354  0.903486  0.492098  0.322522  0.868\n",
       "1  0.111129  0.092397  0.196257  0.078667  0.188\n",
       "2  0.133736  0.127299  0.174184  0.064883  0.164\n",
       "3  0.150134  0.136195  0.199756  0.070803  0.080\n",
       "4  0.149761  0.170025  0.199551  0.175806  0.144"
      ]
     },
     "execution_count": 8,
     "metadata": {},
     "output_type": "execute_result"
    }
   ],
   "source": [
    "S.test_meta.head()"
   ]
  },
  {
   "cell_type": "markdown",
   "metadata": {},
   "source": [
    "Results on test are a bit better due to blending, because for test data each model predictions are blended n_splits times:"
   ]
  },
  {
   "cell_type": "code",
   "execution_count": 9,
   "metadata": {
    "collapsed": false
   },
   "outputs": [
    {
     "name": "stdout",
     "output_type": "stream",
     "text": [
      "0.3602 - lgb_1 on train\n",
      "0.3597 - xgb_1 on train\n",
      "0.5259 - lr_1 on train\n",
      "0.6103 - nb_1 on train\n",
      "0.403 - knn_1 on train\n"
     ]
    }
   ],
   "source": [
    "# OOFs on train data.\n",
    "S.get_metrics()"
   ]
  },
  {
   "cell_type": "code",
   "execution_count": 10,
   "metadata": {
    "collapsed": false
   },
   "outputs": [
    {
     "name": "stdout",
     "output_type": "stream",
     "text": [
      "0.3512 - lgb_1 on test\n",
      "0.3483 - xgb_1 on test\n",
      "0.5241 - lr_1 on test\n",
      "0.6044 - nb_1 on test\n",
      "0.3851 - knn_1 on test\n"
     ]
    }
   ],
   "source": [
    "# OOFs on test data. \n",
    "S.get_metrics(ytest)"
   ]
  },
  {
   "cell_type": "markdown",
   "metadata": {},
   "source": [
    "## Fit second level model and inspect results"
   ]
  },
  {
   "cell_type": "code",
   "execution_count": 11,
   "metadata": {
    "collapsed": false
   },
   "outputs": [
    {
     "name": "stdout",
     "output_type": "stream",
     "text": [
      "Metric on test fold:  0.3622\n",
      "Metric on test fold:  0.3334\n",
      "Metric on test fold:  0.3491\n",
      "Metric on test fold:  0.3582\n",
      "Metric on test fold:  0.3476\n",
      "Iteration OOF score: 0.3501\n",
      "\n"
     ]
    }
   ],
   "source": [
    "lr = LogisticRegression()\n",
    "S.fit(lr, 'lr_2', level=2)"
   ]
  },
  {
   "cell_type": "code",
   "execution_count": 14,
   "metadata": {
    "collapsed": false
   },
   "outputs": [
    {
     "data": {
      "text/html": [
       "<div>\n",
       "<style scoped>\n",
       "    .dataframe tbody tr th:only-of-type {\n",
       "        vertical-align: middle;\n",
       "    }\n",
       "\n",
       "    .dataframe tbody tr th {\n",
       "        vertical-align: top;\n",
       "    }\n",
       "\n",
       "    .dataframe thead th {\n",
       "        text-align: right;\n",
       "    }\n",
       "</style>\n",
       "<table border=\"1\" class=\"dataframe\">\n",
       "  <thead>\n",
       "    <tr style=\"text-align: right;\">\n",
       "      <th></th>\n",
       "      <th>lr_2</th>\n",
       "    </tr>\n",
       "  </thead>\n",
       "  <tbody>\n",
       "    <tr>\n",
       "      <th>0</th>\n",
       "      <td>0.943763</td>\n",
       "    </tr>\n",
       "    <tr>\n",
       "      <th>1</th>\n",
       "      <td>0.104289</td>\n",
       "    </tr>\n",
       "    <tr>\n",
       "      <th>2</th>\n",
       "      <td>0.113615</td>\n",
       "    </tr>\n",
       "    <tr>\n",
       "      <th>3</th>\n",
       "      <td>0.100630</td>\n",
       "    </tr>\n",
       "    <tr>\n",
       "      <th>4</th>\n",
       "      <td>0.115821</td>\n",
       "    </tr>\n",
       "  </tbody>\n",
       "</table>\n",
       "</div>"
      ],
      "text/plain": [
       "       lr_2\n",
       "0  0.943763\n",
       "1  0.104289\n",
       "2  0.113615\n",
       "3  0.100630\n",
       "4  0.115821"
      ]
     },
     "execution_count": 14,
     "metadata": {},
     "output_type": "execute_result"
    }
   ],
   "source": [
    "S.test_result.head()"
   ]
  },
  {
   "cell_type": "code",
   "execution_count": 15,
   "metadata": {
    "collapsed": false
   },
   "outputs": [
    {
     "name": "stdout",
     "output_type": "stream",
     "text": [
      "0.3501 - lr_2 on train\n"
     ]
    }
   ],
   "source": [
    "S.get_metrics_final()"
   ]
  },
  {
   "cell_type": "code",
   "execution_count": 16,
   "metadata": {
    "collapsed": false
   },
   "outputs": [
    {
     "name": "stdout",
     "output_type": "stream",
     "text": [
      "0.343 - lr_2 on test\n"
     ]
    }
   ],
   "source": [
    "S.get_metrics_final(ytest)"
   ]
  },
  {
   "cell_type": "markdown",
   "metadata": {
    "collapsed": false
   },
   "source": [
    "### Logloss of second level model is lower than from the best first level model (0.343 vs 0.3483) !"
   ]
  },
  {
   "cell_type": "code",
   "execution_count": null,
   "metadata": {
    "collapsed": true
   },
   "outputs": [],
   "source": []
  }
 ],
 "metadata": {
  "kernelspec": {
   "display_name": "Python 3",
   "language": "python",
   "name": "python3"
  },
  "language_info": {
   "codemirror_mode": {
    "name": "ipython",
    "version": 3
   },
   "file_extension": ".py",
   "mimetype": "text/x-python",
   "name": "python",
   "nbconvert_exporter": "python",
   "pygments_lexer": "ipython3",
   "version": "3.5.2"
  }
 },
 "nbformat": 4,
 "nbformat_minor": 2
}
